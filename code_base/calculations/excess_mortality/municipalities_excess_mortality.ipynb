{
 "cells": [
  {
   "cell_type": "code",
   "execution_count": 1,
   "metadata": {},
   "outputs": [],
   "source": [
    "import os\n",
    "import pathlib\n",
    "\n",
    "import pandas as pd\n",
    "import math\n",
    "from numpy import ndarray, unique, nan\n",
    "\n",
    "from helpers.columns import COL_HEAD\n",
    "from helpers.predict_data import predict, is_significant"
   ]
  },
  {
   "cell_type": "code",
   "execution_count": 2,
   "metadata": {},
   "outputs": [],
   "source": [
    "def get_final_year():\n",
    "    allowed_years = [COL_HEAD.YEAR_2020, COL_HEAD.YEAR_2021]\n",
    "    msg = f'Please provide final year to analize: [allowed are: {allowed_years}] '\n",
    "\n",
    "    get_year = input(msg)\n",
    "    while get_year not in allowed_years:\n",
    "        get_year = input(msg)\n",
    "    \n",
    "    print(f'Will analyze data for {get_year}')\n",
    "    return get_year"
   ]
  },
  {
   "cell_type": "code",
   "execution_count": 3,
   "metadata": {},
   "outputs": [],
   "source": [
    "def concat_column_vals(df: pd.DataFrame, main_col, additional_col, brackets):\n",
    "    return df[main_col].map(str) + brackets[0] + df[additional_col].map(str) + brackets[1]"
   ]
  },
  {
   "cell_type": "code",
   "execution_count": 4,
   "metadata": {},
   "outputs": [],
   "source": [
    "#  Get Cleaned Mortality from eurostat\n",
    "cleaned_mortality_file = pathlib.Path(f'{os.getcwd()}/../../../cleaned_data/Municipalities - Mortality.csv')\n",
    "df = pd.read_csv(cleaned_mortality_file)"
   ]
  },
  {
   "cell_type": "code",
   "execution_count": 5,
   "metadata": {},
   "outputs": [],
   "source": [
    "compare_years = [COL_HEAD.YEAR_2015, COL_HEAD.YEAR_2016, COL_HEAD.YEAR_2017, COL_HEAD.YEAR_2018, COL_HEAD.YEAR_2019]\n",
    "\n",
    "df[COL_HEAD.MEAN_OR_EXPECTED_MORTALITY] = df.loc[:,compare_years].mean(axis=1)"
   ]
  },
  {
   "cell_type": "code",
   "execution_count": 6,
   "metadata": {},
   "outputs": [],
   "source": [
    "df[COL_HEAD.STANDARD_DEVIATION] = df.loc[:, compare_years].std(axis=1, ddof=0).round(1)"
   ]
  },
  {
   "cell_type": "code",
   "execution_count": 7,
   "metadata": {},
   "outputs": [],
   "source": [
    "df[COL_HEAD.Z_SCORE] = 1.96"
   ]
  },
  {
   "cell_type": "code",
   "execution_count": 8,
   "metadata": {},
   "outputs": [],
   "source": [
    "df[COL_HEAD.CONFIDENCE_INTERVAL] = df.apply(lambda x: \n",
    "                                            x[COL_HEAD.Z_SCORE] * (x[COL_HEAD.STANDARD_DEVIATION] / math.sqrt(5)),\n",
    "                                            axis=1).round(1)"
   ]
  },
  {
   "cell_type": "code",
   "execution_count": 9,
   "metadata": {},
   "outputs": [],
   "source": [
    "df[COL_HEAD.LB_MEAN_MORTALITY] = df[COL_HEAD.MEAN_OR_EXPECTED_MORTALITY] - df[COL_HEAD.CONFIDENCE_INTERVAL]\n",
    "df[COL_HEAD.UB_MEAN_MORTALITY] = df[COL_HEAD.MEAN_OR_EXPECTED_MORTALITY] + df[COL_HEAD.CONFIDENCE_INTERVAL]"
   ]
  },
  {
   "cell_type": "code",
   "execution_count": 10,
   "metadata": {},
   "outputs": [
    {
     "name": "stdout",
     "output_type": "stream",
     "text": [
      "Will analyze data for 2021\n"
     ]
    }
   ],
   "source": [
    "analyze_year = get_final_year()\n",
    "\n",
    "df[COL_HEAD.EXCESS_MORTALITY_BASE] = df.apply(lambda x: \n",
    "                                                x[analyze_year] - x[COL_HEAD.MEAN_OR_EXPECTED_MORTALITY],\n",
    "                                                axis=1).round(1)"
   ]
  },
  {
   "cell_type": "code",
   "execution_count": 11,
   "metadata": {},
   "outputs": [],
   "source": [
    "df[COL_HEAD.P_SCORE] = df.apply(lambda x:\n",
    "                                (\n",
    "                                        (x[analyze_year] - x[COL_HEAD.MEAN_OR_EXPECTED_MORTALITY])\n",
    "                                        /\n",
    "                                        x[COL_HEAD.MEAN_OR_EXPECTED_MORTALITY]\n",
    "                                ) * 100\n",
    "                                if x[COL_HEAD.MEAN_OR_EXPECTED_MORTALITY] != 0\n",
    "                                else 0,\n",
    "                                axis=1).round(1)\n",
    "\n",
    "df[COL_HEAD.P_SCORE_FLUCTUATION] = df.apply(lambda x:\n",
    "                                            x[COL_HEAD.P_SCORE]\n",
    "                                            -\n",
    "                                            (\n",
    "                                                    (\n",
    "                                                            (x[analyze_year] - x[COL_HEAD.UB_MEAN_MORTALITY])\n",
    "                                                            / x[COL_HEAD.UB_MEAN_MORTALITY]\n",
    "                                                    )\n",
    "                                                    * 100\n",
    "                                            )\n",
    "                                            if x[COL_HEAD.UB_MEAN_MORTALITY] != 0\n",
    "                                            else np.nan,\n",
    "                                            axis=1).round(1)\n"
   ]
  },
  {
   "cell_type": "code",
   "execution_count": 12,
   "metadata": {},
   "outputs": [],
   "source": [
    "df[COL_HEAD.MEAN_MORTALITY_DECORATED] = concat_column_vals(df,\n",
    "                                                            COL_HEAD.MEAN_OR_EXPECTED_MORTALITY,\n",
    "                                                            COL_HEAD.CONFIDENCE_INTERVAL,\n",
    "                                                            [' (±', ')'])\n",
    "\n",
    "df[COL_HEAD.EXCESS_MORTALITY_DECORATED] = concat_column_vals(df,\n",
    "                                                            COL_HEAD.EXCESS_MORTALITY_BASE,\n",
    "                                                            COL_HEAD.CONFIDENCE_INTERVAL,\n",
    "                                                            [' (±', ')'])\n",
    "\n",
    "df[COL_HEAD.P_SCORE_DECORATED] = concat_column_vals(df,\n",
    "                                                    COL_HEAD.P_SCORE,\n",
    "                                                    COL_HEAD.P_SCORE_FLUCTUATION,\n",
    "                                                    ['% (±', '%)'])"
   ]
  },
  {
   "cell_type": "code",
   "execution_count": 13,
   "metadata": {},
   "outputs": [],
   "source": [
    "file_name = f'Predicted_excess_mortality_by_Municipality:{analyze_year}.csv'\n",
    "path = pathlib.Path(f'{os.getcwd()}/../../../output_data/Excess_mortality/{file_name}')\n",
    "df.to_csv(path, index=False)"
   ]
  }
 ],
 "metadata": {
  "interpreter": {
   "hash": "3532ede4867f16338ead37b2b12d4c3e854112f4305accb47cfd20ef880b4542"
  },
  "kernelspec": {
   "display_name": "Python 3.9.7 ('Bulgaria_Regional_Mortality-CzOuHsox')",
   "language": "python",
   "name": "python3"
  },
  "language_info": {
   "codemirror_mode": {
    "name": "ipython",
    "version": 3
   },
   "file_extension": ".py",
   "mimetype": "text/x-python",
   "name": "python",
   "nbconvert_exporter": "python",
   "pygments_lexer": "ipython3",
   "version": "3.9.7"
  },
  "orig_nbformat": 4
 },
 "nbformat": 4,
 "nbformat_minor": 2
}
