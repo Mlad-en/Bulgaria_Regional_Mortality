{
 "cells": [
  {
   "cell_type": "code",
   "execution_count": 1,
   "metadata": {},
   "outputs": [],
   "source": [
    "import os\n",
    "import pathlib\n",
    "\n",
    "import pandas as pd\n",
    "from numpy import ndarray, unique, nan\n",
    "\n",
    "from helpers.columns import COL_HEAD\n",
    "from helpers.predict_data import predict, is_significant"
   ]
  },
  {
   "cell_type": "code",
   "execution_count": 2,
   "metadata": {},
   "outputs": [],
   "source": [
    "def get_predicted_mortality(df: pd.DataFrame):\n",
    "    countries = unique(df[COL_HEAD.LOCATION])\n",
    "    sexes = unique(df[COL_HEAD.SEX])\n",
    "    ages = unique(df[COL_HEAD.AGE])\n",
    "\n",
    "    const_df = {\n",
    "                    COL_HEAD.LOCATION: [],\n",
    "                    COL_HEAD.SEX: [],\n",
    "                    COL_HEAD.AGE: [],\n",
    "                    COL_HEAD.MEAN_OR_EXPECTED_MORTALITY: [],\n",
    "                    COL_HEAD.MORTALITY: [],\n",
    "                    COL_HEAD.EXCESS_MORTALITY_BASE: [],\n",
    "                    COL_HEAD.STANDARD_DEVIATION: [],\n",
    "                }\n",
    "\n",
    "    for _, country in enumerate(countries):\n",
    "        for _, sex in enumerate(sexes):\n",
    "            for _, age in enumerate(ages):\n",
    "                X = df[(df[COL_HEAD.LOCATION] == country) & (df[COL_HEAD.SEX] == sex) & (df[COL_HEAD.AGE] == age)][\n",
    "                    [COL_HEAD.YEAR, COL_HEAD.WEEK, COL_HEAD.MORTALITY]\n",
    "                ].values\n",
    "                X = X.astype(int)\n",
    "\n",
    "                total_excess, sum_expected, sum_actual, total_excess_std = predict(X)\n",
    "\n",
    "                const_df[COL_HEAD.LOCATION].append(country)\n",
    "                const_df[COL_HEAD.SEX].append(sex)\n",
    "                const_df[COL_HEAD.AGE].append(age)\n",
    "                const_df[COL_HEAD.MEAN_OR_EXPECTED_MORTALITY].append(sum_expected)\n",
    "                const_df[COL_HEAD.MORTALITY].append(sum_actual)\n",
    "                const_df[COL_HEAD.EXCESS_MORTALITY_BASE].append(total_excess)\n",
    "                const_df[COL_HEAD.STANDARD_DEVIATION].append(total_excess_std)\n",
    "\n",
    "    return pd.DataFrame(const_df)"
   ]
  },
  {
   "cell_type": "code",
   "execution_count": 3,
   "metadata": {},
   "outputs": [],
   "source": [
    "def get_final_year():\n",
    "    allowed_years = [COL_HEAD.YEAR_2020, COL_HEAD.YEAR_2021, COL_HEAD.YEAR_2022]\n",
    "    msg = f'Please provide final year to analize: [allowed are: {allowed_years}] '\n",
    "\n",
    "    get_year = input(msg)\n",
    "    while get_year not in allowed_years:\n",
    "        get_year = input(msg)\n",
    "    \n",
    "    print(f'Will analyze data for {get_year}')\n",
    "    return get_year"
   ]
  },
  {
   "cell_type": "code",
   "execution_count": 4,
   "metadata": {},
   "outputs": [],
   "source": [
    "def get_start_week():\n",
    "    allowed_weeks = [str(week) for week in range(1, 53)]\n",
    "    msg = 'Please provide start week [allowed between 1 and 52]: '\n",
    "    \n",
    "    get_week = input(msg)\n",
    "    while get_week not in allowed_weeks:\n",
    "        get_week = input(msg)\n",
    "    \n",
    "    print(f'Will analyze data from week: {get_week}')\n",
    "    return int(get_week)"
   ]
  },
  {
   "cell_type": "code",
   "execution_count": 5,
   "metadata": {},
   "outputs": [],
   "source": [
    "def concat_column_vals(df: pd.DataFrame, main_col, additional_col, brackets):\n",
    "    return df[main_col].map(str) + brackets[0] + df[additional_col].map(str) + brackets[1]"
   ]
  },
  {
   "cell_type": "code",
   "execution_count": 6,
   "metadata": {},
   "outputs": [],
   "source": [
    "#  Get Cleaned Mortality from eurostat\n",
    "cleaned_mortality_file = pathlib.Path(f'{os.getcwd()}/../../../cleaned_data/Eurostat_mortality_2015_2022(Bulgaria).csv')\n",
    "df = pd.read_csv(cleaned_mortality_file)"
   ]
  },
  {
   "cell_type": "code",
   "execution_count": 7,
   "metadata": {},
   "outputs": [
    {
     "name": "stdout",
     "output_type": "stream",
     "text": [
      "Will analyze data for 2021\n"
     ]
    }
   ],
   "source": [
    "analize_cols = [COL_HEAD.SEX, COL_HEAD.AGE, COL_HEAD.LOCATION, COL_HEAD.WEEK, \n",
    "                COL_HEAD.YEAR_2015, COL_HEAD.YEAR_2016, COL_HEAD.YEAR_2017, COL_HEAD.YEAR_2018, COL_HEAD.YEAR_2019]\n",
    "final_year = get_final_year()\n",
    "analize_cols.append(final_year)\n",
    "df = df.loc[:, analize_cols]\n",
    "df = df[df['Age']!='Total']"
   ]
  },
  {
   "cell_type": "code",
   "execution_count": 8,
   "metadata": {},
   "outputs": [
    {
     "name": "stdout",
     "output_type": "stream",
     "text": [
      "Will analyze data from week: 1\n"
     ]
    }
   ],
   "source": [
    "start_week = get_start_week()\n",
    "df = df[df['Week'].ge(start_week)]"
   ]
  },
  {
   "cell_type": "code",
   "execution_count": 9,
   "metadata": {},
   "outputs": [],
   "source": [
    "group_cols = [COL_HEAD.AGE, COL_HEAD.SEX, COL_HEAD.LOCATION]\n",
    "df2 = df[df[final_year].isnull()].copy()\n",
    "indices = df2.groupby(group_cols).filter(lambda x: min(x['Week']) < 53).index\n",
    "df.drop(indices, axis=0, inplace=True)\n",
    "del df2"
   ]
  },
  {
   "cell_type": "code",
   "execution_count": 10,
   "metadata": {},
   "outputs": [],
   "source": [
    "df = df.fillna(method='pad')"
   ]
  },
  {
   "cell_type": "code",
   "execution_count": 11,
   "metadata": {},
   "outputs": [],
   "source": [
    "df = df.melt(id_vars=[COL_HEAD.LOCATION, COL_HEAD.WEEK, COL_HEAD.SEX, COL_HEAD.AGE],\n",
    "                         var_name=COL_HEAD.YEAR,\n",
    "                         value_name=COL_HEAD.MORTALITY)\n",
    "    \n",
    "df[COL_HEAD.YEAR] = df[COL_HEAD.YEAR].astype(int)"
   ]
  },
  {
   "cell_type": "code",
   "execution_count": 12,
   "metadata": {},
   "outputs": [],
   "source": [
    "predicted_mort = get_predicted_mortality(df)"
   ]
  },
  {
   "cell_type": "code",
   "execution_count": null,
   "metadata": {},
   "outputs": [],
   "source": [
    "predicted_mort[COL_HEAD.Z_SCORE] = predicted_mort.apply(lambda x:\n",
    "                                x[COL_HEAD.EXCESS_MORTALITY_BASE] / x[COL_HEAD.STANDARD_DEVIATION]\n",
    "                                if x[COL_HEAD.STANDARD_DEVIATION] != 0\n",
    "                                else nan,\n",
    "                                axis=1)\n",
    "                                \n",
    "predicted_mort[COL_HEAD.IS_SIGNIFICANT] = predicted_mort.apply(lambda x: is_significant(x[COL_HEAD.Z_SCORE]), axis=1)\n",
    "\n",
    "predicted_mort[COL_HEAD.CONFIDENCE_INTERVAL] = predicted_mort.apply(lambda x: 1.96 * x[COL_HEAD.STANDARD_DEVIATION],\n",
    "                                            axis=1).round(1)\n",
    "\n",
    "predicted_mort[COL_HEAD.LB_MEAN_MORTALITY] = predicted_mort[COL_HEAD.MEAN_OR_EXPECTED_MORTALITY] - predicted_mort[COL_HEAD.CONFIDENCE_INTERVAL]\n",
    "predicted_mort[COL_HEAD.UB_MEAN_MORTALITY] = predicted_mort[COL_HEAD.MEAN_OR_EXPECTED_MORTALITY] + predicted_mort[COL_HEAD.CONFIDENCE_INTERVAL]\n",
    "\n",
    "predicted_mort[COL_HEAD.P_SCORE] = predicted_mort.apply(lambda x:\n",
    "                                    (\n",
    "                                            (x[COL_HEAD.MORTALITY] - x[COL_HEAD.MEAN_OR_EXPECTED_MORTALITY])\n",
    "                                            /\n",
    "                                            x[COL_HEAD.MEAN_OR_EXPECTED_MORTALITY]\n",
    "                                    ) * 100\n",
    "                                    if x[COL_HEAD.MEAN_OR_EXPECTED_MORTALITY] != 0\n",
    "                                    else 0,\n",
    "                                    axis=1).round(1)\n",
    "\n",
    "predicted_mort[COL_HEAD.P_SCORE_FLUCTUATION] = predicted_mort.apply(lambda x:\n",
    "                                                x[COL_HEAD.P_SCORE]\n",
    "                                                -\n",
    "                                                (\n",
    "                                                        (\n",
    "                                                                (x[COL_HEAD.MORTALITY] - x[COL_HEAD.UB_MEAN_MORTALITY])\n",
    "                                                                / x[COL_HEAD.UB_MEAN_MORTALITY]\n",
    "                                                        )\n",
    "                                                        * 100\n",
    "                                                )\n",
    "                                                if x[COL_HEAD.UB_MEAN_MORTALITY] != 0\n",
    "                                                else nan,\n",
    "                                                axis=1).round(1)\n",
    "\n",
    "predicted_mort = predicted_mort.round(1)\n",
    "\n",
    "predicted_mort[COL_HEAD.MEAN_MORTALITY_DECORATED] = concat_column_vals(predicted_mort,\n",
    "                                                                    COL_HEAD.MEAN_OR_EXPECTED_MORTALITY,\n",
    "                                                                    COL_HEAD.CONFIDENCE_INTERVAL,\n",
    "                                                                    [' (±', ')'])\n",
    "\n",
    "predicted_mort[COL_HEAD.EXCESS_MORTALITY_DECORATED] = concat_column_vals(predicted_mort,\n",
    "                                                                    COL_HEAD.EXCESS_MORTALITY_BASE,\n",
    "                                                                    COL_HEAD.CONFIDENCE_INTERVAL,\n",
    "                                                                    [' (±', ')'])\n",
    "\n",
    "predicted_mort[COL_HEAD.P_SCORE_DECORATED] = concat_column_vals(predicted_mort,\n",
    "                                                            COL_HEAD.P_SCORE,\n",
    "                                                            COL_HEAD.P_SCORE_FLUCTUATION,\n",
    "                                                            ['% (±', '%)'])"
   ]
  },
  {
   "cell_type": "code",
   "execution_count": null,
   "metadata": {},
   "outputs": [],
   "source": [
    "file_name = f'Predicted_excess_mortality_by_location_sex_age_year:{final_year}.csv'\n",
    "path = pathlib.Path(f'{os.getcwd()}/../../../output_data/Excess_mortality/{file_name}')\n",
    "predicted_mort.to_csv(path, index=False)"
   ]
  }
 ],
 "metadata": {
  "interpreter": {
   "hash": "3532ede4867f16338ead37b2b12d4c3e854112f4305accb47cfd20ef880b4542"
  },
  "kernelspec": {
   "display_name": "Python 3.9.7 ('Bulgaria_Regional_Mortality-CzOuHsox')",
   "language": "python",
   "name": "python3"
  },
  "language_info": {
   "codemirror_mode": {
    "name": "ipython",
    "version": 3
   },
   "file_extension": ".py",
   "mimetype": "text/x-python",
   "name": "python",
   "nbconvert_exporter": "python",
   "pygments_lexer": "ipython3",
   "version": "3.9.7"
  },
  "orig_nbformat": 4
 },
 "nbformat": 4,
 "nbformat_minor": 2
}
