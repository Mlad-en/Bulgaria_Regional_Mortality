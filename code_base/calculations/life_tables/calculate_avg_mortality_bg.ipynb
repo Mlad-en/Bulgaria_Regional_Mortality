{
 "cells": [
  {
   "cell_type": "code",
   "execution_count": 1,
   "metadata": {},
   "outputs": [],
   "source": [
    "import os\n",
    "import pathlib\n",
    "import pandas as pd"
   ]
  },
  {
   "cell_type": "code",
   "execution_count": 2,
   "metadata": {},
   "outputs": [],
   "source": [
    "#  Get Cleaned Mortality from eurostat\n",
    "cleaned_mortality_file = pathlib.Path(f'{os.getcwd()}/../../../cleaned_data/Eurostat_mortality_2015_2022(Bulgaria).csv')\n",
    "df = pd.read_csv(cleaned_mortality_file)"
   ]
  },
  {
   "cell_type": "code",
   "execution_count": 3,
   "metadata": {},
   "outputs": [],
   "source": [
    "# Limit data to only the last 3 years prior to the pandemic\n",
    "df =df.loc[:, ['Sex', 'Age', 'Location', 'Week','2017', '2018', '2019']]\n",
    "df = df[df.Age != 'Total']"
   ]
  },
  {
   "cell_type": "code",
   "execution_count": 4,
   "metadata": {},
   "outputs": [],
   "source": [
    "# Remove any datapoints where there is missing mortality - e.g. week 53 (none of these years have a week 53)\n",
    "df.dropna(subset=['2017', '2018', '2019'], how='any', inplace=True)"
   ]
  },
  {
   "cell_type": "code",
   "execution_count": 5,
   "metadata": {},
   "outputs": [],
   "source": [
    "# Group data and calculate yearly mortality for the period. Then calculate the avergage mortality for each sex, age, location cohort.\n",
    "df = df.groupby(['Sex', 'Age', 'Location'], as_index=False).sum()\n",
    "df['avg_mortality'] = df.loc[:, ['2017', '2018', '2019']].mean(axis=1).round(2)"
   ]
  },
  {
   "cell_type": "code",
   "execution_count": 7,
   "metadata": {},
   "outputs": [],
   "source": [
    "df.drop('Week', inplace=True, axis=1)"
   ]
  },
  {
   "cell_type": "code",
   "execution_count": 34,
   "metadata": {},
   "outputs": [],
   "source": [
    "calculated_avg_mortality_last_3_years = pathlib.Path(f'{os.getcwd()}/../../../output_data/life_table_calculations/Eurostat_avg_mortality_2017_2019(Bulgaria).csv')\n",
    "df.to_csv(calculated_avg_mortality_last_3_years, index=False)"
   ]
  }
 ],
 "metadata": {
  "interpreter": {
   "hash": "00fa93a88c3de211dd292ee4efa0f7066c412efac2e0636f8403ed7165f707cb"
  },
  "kernelspec": {
   "display_name": "Python 3.9.7 ('COV-BG-l4DIJW4P')",
   "language": "python",
   "name": "python3"
  },
  "language_info": {
   "codemirror_mode": {
    "name": "ipython",
    "version": 3
   },
   "file_extension": ".py",
   "mimetype": "text/x-python",
   "name": "python",
   "nbconvert_exporter": "python",
   "pygments_lexer": "ipython3",
   "version": "3.9.7"
  },
  "orig_nbformat": 4
 },
 "nbformat": 4,
 "nbformat_minor": 2
}
