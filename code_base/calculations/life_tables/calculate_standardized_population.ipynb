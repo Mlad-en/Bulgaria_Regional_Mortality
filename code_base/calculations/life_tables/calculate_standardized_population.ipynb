{
 "cells": [
  {
   "cell_type": "code",
   "execution_count": 1,
   "metadata": {},
   "outputs": [],
   "source": [
    "import os\n",
    "import pathlib\n",
    "import pandas as pd"
   ]
  },
  {
   "cell_type": "code",
   "execution_count": 2,
   "metadata": {},
   "outputs": [],
   "source": [
    "cleaned_avg_population_file = pathlib.Path(f'{os.getcwd()}/../../../cleaned_data/Population_all_ages_2017-2019(Bulgaria).csv')\n",
    "pop_df = pd.read_csv(cleaned_avg_population_file)"
   ]
  },
  {
   "cell_type": "code",
   "execution_count": 3,
   "metadata": {},
   "outputs": [],
   "source": [
    "pop_df = pop_df.loc[:, ['Location' ,'Age', 'Sex', '2019']]"
   ]
  },
  {
   "cell_type": "code",
   "execution_count": 4,
   "metadata": {},
   "outputs": [],
   "source": [
    "sex_stratified_population = pop_df.groupby('Sex', as_index=False).sum('2019')\n",
    "sex_stratified_population.rename(columns={'2019': 'sex_stratified_population'}, inplace=True)"
   ]
  },
  {
   "cell_type": "code",
   "execution_count": 5,
   "metadata": {},
   "outputs": [],
   "source": [
    "age_sex_stratified_population = pop_df.groupby(['Sex', 'Age'], as_index=False).sum('2019')\n",
    "age_sex_stratified_population.rename(columns={'2019': 'age_sex_stratified_population'}, inplace=True)"
   ]
  },
  {
   "cell_type": "code",
   "execution_count": 6,
   "metadata": {},
   "outputs": [],
   "source": [
    "pop_df = pd.merge(left=age_sex_stratified_population, right=sex_stratified_population, on='Sex')"
   ]
  },
  {
   "cell_type": "code",
   "execution_count": 7,
   "metadata": {},
   "outputs": [],
   "source": [
    "pop_df['std_pop'] = pop_df.apply(lambda x: (x['age_sex_stratified_population'] / x['sex_stratified_population']) * 100_000, axis=1).round(0)"
   ]
  },
  {
   "cell_type": "code",
   "execution_count": 8,
   "metadata": {},
   "outputs": [],
   "source": [
    "save_loc = pathlib.Path(f'{os.getcwd()}/../../../output_data/life_table_calculations/Bulgarian Standardized population.csv')\n",
    "pop_df.to_csv(save_loc, index=False)"
   ]
  }
 ],
 "metadata": {
  "interpreter": {
   "hash": "3532ede4867f16338ead37b2b12d4c3e854112f4305accb47cfd20ef880b4542"
  },
  "kernelspec": {
   "display_name": "Python 3.9.7 ('Bulgaria_Regional_Mortality-CzOuHsox')",
   "language": "python",
   "name": "python3"
  },
  "language_info": {
   "codemirror_mode": {
    "name": "ipython",
    "version": 3
   },
   "file_extension": ".py",
   "mimetype": "text/x-python",
   "name": "python",
   "nbconvert_exporter": "python",
   "pygments_lexer": "ipython3",
   "version": "3.9.7"
  },
  "orig_nbformat": 4
 },
 "nbformat": 4,
 "nbformat_minor": 2
}
