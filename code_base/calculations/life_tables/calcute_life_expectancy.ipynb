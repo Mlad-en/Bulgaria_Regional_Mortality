{
 "cells": [
  {
   "cell_type": "code",
   "execution_count": 12,
   "metadata": {},
   "outputs": [],
   "source": [
    "import os\n",
    "import pathlib\n",
    "import pandas as pd\n",
    "\n",
    "from helpers.age_bindings import *\n",
    "from helpers.headers import Headers"
   ]
  },
  {
   "cell_type": "code",
   "execution_count": 13,
   "metadata": {},
   "outputs": [],
   "source": [
    "calculated_avg_mortality_last_3_years = pathlib.Path(f'{os.getcwd()}/../../../output_data/life_table_calculations/Eurostat_avg_mortality_2017_2019(Bulgaria).csv')\n",
    "mort_df = pd.read_csv(calculated_avg_mortality_last_3_years)"
   ]
  },
  {
   "cell_type": "code",
   "execution_count": 14,
   "metadata": {},
   "outputs": [],
   "source": [
    "cleaned_avg_population_file = pathlib.Path(f'{os.getcwd()}/../../../cleaned_data/Population_all_ages_2017-2019(Bulgaria).csv')\n",
    "pop_df = pd.read_csv(cleaned_avg_population_file)"
   ]
  },
  {
   "cell_type": "code",
   "execution_count": 15,
   "metadata": {},
   "outputs": [],
   "source": [
    "pop_mort = pd.merge(left=mort_df, right=pop_df, on=['Sex', 'Age', 'Location'], suffixes=['_mort', '_pop'])\n"
   ]
  },
  {
   "cell_type": "code",
   "execution_count": 16,
   "metadata": {},
   "outputs": [],
   "source": [
    "pop_mort = pop_mort.loc[:, [Headers.location, Headers.sex, Headers.age, Headers.avg_mort, Headers.avg_pop]]\n",
    "pop_mort[Headers.age] = pop_mort[Headers.age].astype(cat_age_order)\n",
    "pop_mort.sort_values([Headers.location, Headers.sex, Headers.age], inplace=True)\n",
    "pop_mort.reset_index(inplace=True)\n",
    "pop_mort.drop('index', axis=1, inplace=True)"
   ]
  },
  {
   "cell_type": "code",
   "execution_count": 19,
   "metadata": {},
   "outputs": [],
   "source": [
    "pop_mort[Headers.Interval] = pop_mort[Headers.age].apply(lambda x: INFOSTAT_DECODE_AGE_GROUPS.get(x))\n",
    "pop_mort[Headers.Mx] = pop_mort.apply(lambda x: x[Headers.avg_mort]/ x[Headers.avg_pop], axis=1)\n",
    "pop_mort[Headers.ax] = 0.5\n"
   ]
  },
  {
   "cell_type": "code",
   "execution_count": 21,
   "metadata": {},
   "outputs": [],
   "source": [
    "pop_mort[Headers.qx] = pop_mort.apply(lambda x: \n",
    "\n",
    "(x[Headers.Interval] * x[Headers.Mx])\n",
    "/\n",
    "(1 + x[Headers.Interval] * (1 - x[Headers.ax]) * x[Headers.Mx])\n",
    "\n",
    "if not x[Headers.age] == '(90+)'\n",
    "else 1,\n",
    "axis=1)"
   ]
  },
  {
   "cell_type": "code",
   "execution_count": 22,
   "metadata": {},
   "outputs": [],
   "source": [
    "pop_mort[Headers.px] = pop_mort[Headers.qx].apply(lambda x: 1 - x)"
   ]
  },
  {
   "cell_type": "code",
   "execution_count": 23,
   "metadata": {},
   "outputs": [],
   "source": [
    "for ind, _ in pop_mort.iterrows():\n",
    "    if pop_mort.loc[ind, Headers.age] == AGE_BINDINGS.AGE_00_04:\n",
    "        pop_mort.loc[ind, Headers.l_x] = 100_000\n",
    "    else:\n",
    "        index = ind-1\n",
    "        prev_lx = pop_mort.loc[index, Headers.l_x]\n",
    "        prev_px = pop_mort.loc[index, Headers.px]\n",
    "        pop_mort.loc[ind, Headers.l_x] = prev_lx * prev_px"
   ]
  },
  {
   "cell_type": "code",
   "execution_count": 25,
   "metadata": {},
   "outputs": [],
   "source": [
    "for ind, _ in pop_mort.iterrows():\n",
    "    if pop_mort.loc[ind, Headers.age] == AGE_BINDINGS.AGE_GE90:\n",
    "        pop_mort.loc[ind, Headers.d_x] = pop_mort.loc[ind, Headers.l_x]\n",
    "    else:\n",
    "        current_lx = pop_mort.loc[ind, Headers.l_x]\n",
    "        next_lx = pop_mort.loc[ind+1, Headers.l_x]\n",
    "        pop_mort.loc[ind, Headers.d_x] = current_lx - next_lx"
   ]
  },
  {
   "cell_type": "code",
   "execution_count": 27,
   "metadata": {},
   "outputs": [],
   "source": [
    "for ind, _ in pop_mort.iterrows():\n",
    "    if pop_mort.loc[ind, Headers.age] == AGE_BINDINGS.AGE_GE90:\n",
    "        pop_mort.loc[ind, Headers.L_x] = pop_mort.loc[ind, Headers.l_x] / pop_mort.loc[ind, Headers.Mx]\n",
    "    else:\n",
    "        next_lx = pop_mort.loc[ind+1, Headers.l_x]\n",
    "        current_dx = pop_mort.loc[ind, Headers.d_x]   \n",
    "        current_ax = pop_mort.loc[ind, Headers.ax]\n",
    "        current_interval = pop_mort.loc[ind, Headers.Interval]\n",
    "\n",
    "        pop_mort.loc[ind, Headers.L_x] = current_interval * (next_lx + (current_dx * current_ax))"
   ]
  },
  {
   "cell_type": "code",
   "execution_count": 28,
   "metadata": {},
   "outputs": [],
   "source": [
    "pop_mort.sort_values([Headers.location, Headers.sex, Headers.age], ascending=False, inplace=True)\n",
    "pop_mort.reset_index(inplace=True)\n",
    "pop_mort.drop('index', axis=1, inplace=True)"
   ]
  },
  {
   "cell_type": "code",
   "execution_count": 29,
   "metadata": {},
   "outputs": [],
   "source": [
    "for ind, _ in pop_mort.iterrows():\n",
    "    if pop_mort.loc[ind, Headers.age] == AGE_BINDINGS.AGE_GE90:\n",
    "        pop_mort.loc[ind, Headers.T_x] = pop_mort.loc[ind, Headers.L_x]\n",
    "    else:\n",
    "        current_L_x = pop_mort.loc[ind, Headers.L_x]\n",
    "        previous_T_x = pop_mort.loc[ind - 1, Headers.T_x]\n",
    "        pop_mort.loc[ind, Headers.T_x] = current_L_x + previous_T_x"
   ]
  },
  {
   "cell_type": "code",
   "execution_count": 30,
   "metadata": {},
   "outputs": [],
   "source": [
    "pop_mort[Headers.e_x] = pop_mort.apply(lambda x:\n",
    "                                       x[Headers.T_x] / x[Headers.l_x], \n",
    "                                       axis=1).round(2)"
   ]
  },
  {
   "cell_type": "code",
   "execution_count": 33,
   "metadata": {},
   "outputs": [],
   "source": [
    "pop_mort.sort_values([Headers.location, Headers.sex, Headers.age], inplace=True)\n",
    "pop_mort.reset_index(inplace=True)\n",
    "pop_mort.drop('index', axis=1, inplace=True)\n"
   ]
  },
  {
   "cell_type": "code",
   "execution_count": 35,
   "metadata": {},
   "outputs": [],
   "source": [
    "calculated_abridged_life_tbl = pathlib.Path(f'{os.getcwd()}/../../../output_data/life_table_calculations/Bulgaria_Abidged_life_table.csv')\n",
    "\n",
    "pop_mort.to_csv(calculated_abridged_life_tbl, index=False)"
   ]
  }
 ],
 "metadata": {
  "interpreter": {
   "hash": "00fa93a88c3de211dd292ee4efa0f7066c412efac2e0636f8403ed7165f707cb"
  },
  "kernelspec": {
   "display_name": "Python 3.9.7 ('COV-BG-l4DIJW4P')",
   "language": "python",
   "name": "python3"
  },
  "language_info": {
   "codemirror_mode": {
    "name": "ipython",
    "version": 3
   },
   "file_extension": ".py",
   "mimetype": "text/x-python",
   "name": "python",
   "nbconvert_exporter": "python",
   "pygments_lexer": "ipython3",
   "version": "3.9.7"
  },
  "orig_nbformat": 4
 },
 "nbformat": 4,
 "nbformat_minor": 2
}
