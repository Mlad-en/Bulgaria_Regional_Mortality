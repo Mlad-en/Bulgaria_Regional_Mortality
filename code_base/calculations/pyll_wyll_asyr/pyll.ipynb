{
 "cells": [
  {
   "cell_type": "code",
   "execution_count": 1,
   "metadata": {},
   "outputs": [],
   "source": [
    "import os\n",
    "import pathlib\n",
    "import pandas as pd\n",
    "\n",
    "from helpers.column import COLUMN_HEAD"
   ]
  },
  {
   "cell_type": "code",
   "execution_count": 2,
   "metadata": {},
   "outputs": [],
   "source": [
    "def get_final_year():\n",
    "    allowed_years = ['2020', '2021', '2022']\n",
    "    msg = f'Please provide final year to analize: [allowed are: {allowed_years}] '\n",
    "\n",
    "    get_year = input(msg)\n",
    "    while get_year not in allowed_years:\n",
    "        get_year = input(msg)\n",
    "    \n",
    "    print(f'Will analyze data for {get_year}')\n",
    "    return get_year"
   ]
  },
  {
   "cell_type": "code",
   "execution_count": 3,
   "metadata": {},
   "outputs": [],
   "source": [
    "cleaned_avg_population_file = pathlib.Path(f'{os.getcwd()}/../../../cleaned_data/Population_all_ages_2017-2019(Bulgaria).csv')\n",
    "pop = pd.read_csv(cleaned_avg_population_file)\n",
    "pop = pop.loc[:, [COLUMN_HEAD.LOCATION, COLUMN_HEAD.SEX, COLUMN_HEAD.AGE,  '2019']]\n",
    "pop.rename(columns={'2019': COLUMN_HEAD.POPULATION}, inplace=True)"
   ]
  },
  {
   "cell_type": "code",
   "execution_count": 4,
   "metadata": {},
   "outputs": [],
   "source": [
    "life_tables_file = pathlib.Path(f'{os.getcwd()}/../../../output_data/life_table_calculations/Bulgaria_Abidged_life_table.csv')\n",
    "life_tables = pd.read_csv(life_tables_file)\n",
    "life_tables = life_tables.loc[:, [COLUMN_HEAD.LOCATION, COLUMN_HEAD.SEX, COLUMN_HEAD.AGE, 'e(x)']]\n",
    "life_tables.rename(columns={'e(x)': COLUMN_HEAD.LIFE_EXPECTANCY}, inplace=True)"
   ]
  },
  {
   "cell_type": "code",
   "execution_count": 5,
   "metadata": {},
   "outputs": [
    {
     "name": "stdout",
     "output_type": "stream",
     "text": [
      "Will analyze data for 2021\n"
     ]
    }
   ],
   "source": [
    "final_year = get_final_year()\n",
    "mortality_file = pathlib.Path(f'{os.getcwd()}/../../../output_data/Excess_mortality/Predicted_excess_mortality_by_location_sex_age_year:{final_year}.csv')\n",
    "mortality = pd.read_csv(mortality_file)\n"
   ]
  },
  {
   "cell_type": "code",
   "execution_count": 6,
   "metadata": {},
   "outputs": [],
   "source": [
    "pop = pop.groupby([COLUMN_HEAD.SEX, COLUMN_HEAD.LOCATION], as_index=False)[COLUMN_HEAD.POPULATION].sum()"
   ]
  },
  {
   "cell_type": "code",
   "execution_count": 7,
   "metadata": {},
   "outputs": [],
   "source": [
    "exc_mort = mortality.merge(life_tables, on=[COLUMN_HEAD.AGE, COLUMN_HEAD.SEX, COLUMN_HEAD.LOCATION])\n"
   ]
  },
  {
   "cell_type": "code",
   "execution_count": 8,
   "metadata": {},
   "outputs": [],
   "source": [
    "exc_mort[COLUMN_HEAD.PYLL_MEAN] = exc_mort.apply(lambda x:\n",
    "                                          x[COLUMN_HEAD.LIFE_EXPECTANCY] * x[COLUMN_HEAD.EXCESS_MORTALITY_MEAN]\n",
    "                                          if x[COLUMN_HEAD.EXCESS_MORTALITY_MEAN] > 0\n",
    "                                          else 0,\n",
    "                                          axis=1).round(1)\n",
    "\n",
    "exc_mort[COLUMN_HEAD.PYLL_FLUCTUATION] = exc_mort.apply(lambda x:\n",
    "                                                 x[COLUMN_HEAD.LIFE_EXPECTANCY] * x[COLUMN_HEAD.CONFIDENCE_INTERVAL]\n",
    "                                                 if x[COLUMN_HEAD.PYLL_MEAN] > 0\n",
    "                                                 else 0,\n",
    "                                                 axis=1).round(1)"
   ]
  },
  {
   "cell_type": "code",
   "execution_count": 9,
   "metadata": {},
   "outputs": [],
   "source": [
    "exc_mort = exc_mort.loc[(exc_mort[COLUMN_HEAD.IS_SIGNIFICANT] == 'Significant Increase'), :]"
   ]
  },
  {
   "cell_type": "code",
   "execution_count": 10,
   "metadata": {},
   "outputs": [],
   "source": [
    "agg_params = {COLUMN_HEAD.EXCESS_MORTALITY_MEAN: 'sum',\n",
    "                      COLUMN_HEAD.CONFIDENCE_INTERVAL:   'sum',\n",
    "                      COLUMN_HEAD.PYLL_MEAN:             'sum',\n",
    "                      COLUMN_HEAD.PYLL_FLUCTUATION:      'sum',\n",
    "                      }\n",
    "exc_mort = exc_mort.groupby([COLUMN_HEAD.SEX, COLUMN_HEAD.LOCATION, COLUMN_HEAD.IS_SIGNIFICANT], as_index=False).agg(agg_params)"
   ]
  },
  {
   "cell_type": "code",
   "execution_count": 11,
   "metadata": {},
   "outputs": [],
   "source": [
    "exc_mort[COLUMN_HEAD.PYLL_AVG_MEAN] = exc_mort.apply(lambda x:\n",
    "                                              x[COLUMN_HEAD.PYLL_MEAN] / x[COLUMN_HEAD.EXCESS_MORTALITY_MEAN],\n",
    "                                              axis=1).round(2)\n",
    "\n",
    "exc_mort[COLUMN_HEAD.PYLL_AVG_FLUC] = exc_mort.apply(lambda x:\n",
    "                                              abs(\n",
    "                                                  (x[COLUMN_HEAD.PYLL_MEAN] + x[COLUMN_HEAD.PYLL_FLUCTUATION])\n",
    "                                                  /\n",
    "                                                  (x[COLUMN_HEAD.EXCESS_MORTALITY_MEAN] + x[COLUMN_HEAD.CONFIDENCE_INTERVAL])\n",
    "                                                  - x[COLUMN_HEAD.PYLL_AVG_MEAN]\n",
    "                                              ),\n",
    "                                              axis=1).round(2)"
   ]
  },
  {
   "cell_type": "code",
   "execution_count": 12,
   "metadata": {},
   "outputs": [],
   "source": [
    "exc_mort = exc_mort.merge(pop, on=[COLUMN_HEAD.SEX, COLUMN_HEAD.LOCATION])"
   ]
  },
  {
   "cell_type": "code",
   "execution_count": 13,
   "metadata": {},
   "outputs": [],
   "source": [
    "exc_mort[COLUMN_HEAD.PYLL_STD_MEAN] = exc_mort.apply(lambda x:\n",
    "                                              (x[COLUMN_HEAD.PYLL_MEAN] / x[COLUMN_HEAD.POPULATION])\n",
    "                                              *\n",
    "                                              10 ** 5,\n",
    "                                              axis=1).round(1)\n",
    "\n",
    "exc_mort[COLUMN_HEAD.PYLL_STD_FLUC] = exc_mort.apply(lambda x:\n",
    "                                              (x[COLUMN_HEAD.PYLL_FLUCTUATION] / x[COLUMN_HEAD.POPULATION])\n",
    "                                              *\n",
    "                                              10 ** 5,\n",
    "                                              axis=1).round(3)"
   ]
  },
  {
   "cell_type": "code",
   "execution_count": 14,
   "metadata": {},
   "outputs": [],
   "source": [
    "exc_mort[COLUMN_HEAD.PYLL_MEAN_DECORATED] = exc_mort[COLUMN_HEAD.PYLL_MEAN].round(1).map(str) + ' (±' + exc_mort[\n",
    "            COLUMN_HEAD.PYLL_FLUCTUATION].round(1).map(str) + ')'\n",
    "\n",
    "exc_mort[COLUMN_HEAD.PYLL_AVG_MEAN_DECORATED] = exc_mort[COLUMN_HEAD.PYLL_AVG_MEAN].map(str) + ' (±' + exc_mort[\n",
    "            COLUMN_HEAD.PYLL_AVG_FLUC].map(str) + ')'\n",
    "\n",
    "exc_mort[COLUMN_HEAD.PYLL_STD_MEAN_DECORATED] = exc_mort[COLUMN_HEAD.PYLL_STD_MEAN].map(str) + ' (±' + exc_mort[\n",
    "            COLUMN_HEAD.PYLL_STD_FLUC].map(str) + ')'"
   ]
  },
  {
   "cell_type": "code",
   "execution_count": 15,
   "metadata": {},
   "outputs": [],
   "source": [
    "file_name = f'PYLL_for_year:{final_year}.csv'\n",
    "path = pathlib.Path(f'{os.getcwd()}/../../../output_data/Excess_mortality/{file_name}')\n",
    "exc_mort.to_csv(path, index=False)"
   ]
  }
 ],
 "metadata": {
  "interpreter": {
   "hash": "00fa93a88c3de211dd292ee4efa0f7066c412efac2e0636f8403ed7165f707cb"
  },
  "kernelspec": {
   "display_name": "Python 3.9.7 ('COV-BG-l4DIJW4P')",
   "language": "python",
   "name": "python3"
  },
  "language_info": {
   "codemirror_mode": {
    "name": "ipython",
    "version": 3
   },
   "file_extension": ".py",
   "mimetype": "text/x-python",
   "name": "python",
   "nbconvert_exporter": "python",
   "pygments_lexer": "ipython3",
   "version": "3.9.7"
  },
  "orig_nbformat": 4
 },
 "nbformat": 4,
 "nbformat_minor": 2
}
