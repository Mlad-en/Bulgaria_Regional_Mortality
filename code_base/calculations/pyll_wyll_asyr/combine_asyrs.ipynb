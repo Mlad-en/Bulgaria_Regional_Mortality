{
 "cells": [
  {
   "cell_type": "code",
   "execution_count": 1,
   "metadata": {},
   "outputs": [],
   "source": [
    "import os\n",
    "import pathlib\n",
    "import pandas as pd\n",
    "\n",
    "from helpers.column import COLUMN_HEAD"
   ]
  },
  {
   "cell_type": "code",
   "execution_count": 2,
   "metadata": {},
   "outputs": [],
   "source": [
    "asyr_2020_file = pathlib.Path(f'{os.getcwd()}/../../../output_data/life_table_calculations/ASYR_for_year:2020.csv')\n",
    "asyr_2021_file = pathlib.Path(f'{os.getcwd()}/../../../output_data/life_table_calculations/ASYR_for_year:2021.csv')\n",
    "asyr_2022_file = pathlib.Path(f'{os.getcwd()}/../../../output_data/life_table_calculations/ASYR_for_year:2022.csv')\n",
    "\n",
    "asyr_2020 = pd.read_csv(asyr_2020_file)\n",
    "asyr_2021 = pd.read_csv(asyr_2021_file)\n",
    "asyr_2022 = pd.read_csv(asyr_2022_file)\n"
   ]
  },
  {
   "cell_type": "code",
   "execution_count": 7,
   "metadata": {},
   "outputs": [],
   "source": [
    "total_asyrs = pd.concat([asyr_2020, asyr_2021, asyr_2022]).groupby([COLUMN_HEAD.LOCATION, COLUMN_HEAD.SEX], as_index=False).sum()"
   ]
  },
  {
   "cell_type": "code",
   "execution_count": 11,
   "metadata": {},
   "outputs": [],
   "source": [
    "total_asyrs.sort_values([COLUMN_HEAD.SEX, COLUMN_HEAD.ASYR], ascending=False, inplace=True)"
   ]
  },
  {
   "cell_type": "code",
   "execution_count": 12,
   "metadata": {},
   "outputs": [],
   "source": [
    "total_asyrs_file = pathlib.Path(f'{os.getcwd()}/../../../output_data/life_table_calculations/Total ASYRs for 2020-2022.csv')\n",
    "total_asyrs.to_csv(total_asyrs_file, index=True)"
   ]
  }
 ],
 "metadata": {
  "interpreter": {
   "hash": "3532ede4867f16338ead37b2b12d4c3e854112f4305accb47cfd20ef880b4542"
  },
  "kernelspec": {
   "display_name": "Python 3.9.7 ('Bulgaria_Regional_Mortality-CzOuHsox')",
   "language": "python",
   "name": "python3"
  },
  "language_info": {
   "codemirror_mode": {
    "name": "ipython",
    "version": 3
   },
   "file_extension": ".py",
   "mimetype": "text/x-python",
   "name": "python",
   "nbconvert_exporter": "python",
   "pygments_lexer": "ipython3",
   "version": "3.9.7"
  },
  "orig_nbformat": 4
 },
 "nbformat": 4,
 "nbformat_minor": 2
}
