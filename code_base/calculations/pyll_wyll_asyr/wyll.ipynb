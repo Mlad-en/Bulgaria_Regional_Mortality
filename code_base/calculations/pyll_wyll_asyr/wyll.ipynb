{
 "cells": [
  {
   "cell_type": "code",
   "execution_count": 1,
   "metadata": {},
   "outputs": [],
   "source": [
    "import os\n",
    "import pathlib\n",
    "import pandas as pd\n",
    "\n",
    "from helpers.column import COLUMN_HEAD\n",
    "from helpers.generate_mean_working_years import gen_working_years\n",
    "from helpers.age_bindings import AGE_BINDINGS"
   ]
  },
  {
   "cell_type": "code",
   "execution_count": 2,
   "metadata": {},
   "outputs": [],
   "source": [
    "def get_final_year():\n",
    "    allowed_years = ['2020', '2021', '2022']\n",
    "    msg = f'Please provide final year to analize: [allowed are: {allowed_years}] '\n",
    "\n",
    "    get_year = input(msg)\n",
    "    while get_year not in allowed_years:\n",
    "        get_year = input(msg)\n",
    "    \n",
    "    print(f'Will analyze data for {get_year}')\n",
    "    return get_year"
   ]
  },
  {
   "cell_type": "code",
   "execution_count": 3,
   "metadata": {},
   "outputs": [],
   "source": [
    "filter_ages = [AGE_BINDINGS.AGE_15_19, AGE_BINDINGS.AGE_20_24, AGE_BINDINGS.AGE_25_29, AGE_BINDINGS.AGE_30_34,\n",
    "                AGE_BINDINGS.AGE_35_39, AGE_BINDINGS.AGE_40_44, AGE_BINDINGS.AGE_45_49, AGE_BINDINGS.AGE_50_54,\n",
    "                AGE_BINDINGS.AGE_55_59, AGE_BINDINGS.AGE_60_64]"
   ]
  },
  {
   "cell_type": "code",
   "execution_count": 4,
   "metadata": {},
   "outputs": [],
   "source": [
    "life_exp = pd.DataFrame(gen_working_years())"
   ]
  },
  {
   "cell_type": "code",
   "execution_count": 5,
   "metadata": {},
   "outputs": [],
   "source": [
    "cleaned_avg_population_file = pathlib.Path(f'{os.getcwd()}/../../../cleaned_data/Population_all_ages_2017-2019(Bulgaria).csv')\n",
    "pop = pd.read_csv(cleaned_avg_population_file)\n",
    "pop = pop.loc[:, [COLUMN_HEAD.LOCATION, COLUMN_HEAD.SEX, COLUMN_HEAD.AGE,  '2019']]\n",
    "pop.rename(columns={'2019': COLUMN_HEAD.POPULATION}, inplace=True)"
   ]
  },
  {
   "cell_type": "code",
   "execution_count": 6,
   "metadata": {},
   "outputs": [
    {
     "name": "stdout",
     "output_type": "stream",
     "text": [
      "Will analyze data for 2022\n"
     ]
    }
   ],
   "source": [
    "final_year = get_final_year()\n",
    "mortality_file = pathlib.Path(f'{os.getcwd()}/../../../output_data/Excess_mortality/Predicted_excess_mortality_by_location_sex_age_year:{final_year}.csv')\n",
    "mortality = pd.read_csv(mortality_file)\n",
    "mortality = mortality[mortality[COLUMN_HEAD.AGE].isin(filter_ages)]\n"
   ]
  },
  {
   "cell_type": "code",
   "execution_count": 7,
   "metadata": {},
   "outputs": [],
   "source": [
    "pop = pop.groupby([COLUMN_HEAD.SEX, COLUMN_HEAD.LOCATION], as_index=False)[COLUMN_HEAD.POPULATION].sum()"
   ]
  },
  {
   "cell_type": "code",
   "execution_count": 8,
   "metadata": {},
   "outputs": [],
   "source": [
    "exc_mort = mortality.merge(life_exp, on=[COLUMN_HEAD.AGE])\n"
   ]
  },
  {
   "cell_type": "code",
   "execution_count": 9,
   "metadata": {},
   "outputs": [],
   "source": [
    "exc_mort[COLUMN_HEAD.WYLL_MEAN] = exc_mort.apply(lambda x:\n",
    "                                    x[COLUMN_HEAD.WORKING_YEARS_LEFT_MEAN] * x[COLUMN_HEAD.EXCESS_MORTALITY_MEAN]\n",
    "                                    if x[COLUMN_HEAD.EXCESS_MORTALITY_MEAN] > 0\n",
    "                                    else 0,\n",
    "                                    axis=1).round(1)\n",
    "\n",
    "exc_mort[COLUMN_HEAD.WYLL_FLUCTUATION] = exc_mort.apply(lambda x:\n",
    "                                            x[COLUMN_HEAD.WORKING_YEARS_LEFT_MEAN] * x[COLUMN_HEAD.CONFIDENCE_INTERVAL]\n",
    "                                            if x[COLUMN_HEAD.WYLL_MEAN] > 0\n",
    "                                            else 0,\n",
    "                                            axis=1).round(1)"
   ]
  },
  {
   "cell_type": "code",
   "execution_count": 10,
   "metadata": {},
   "outputs": [],
   "source": [
    "exc_mort = exc_mort.loc[(exc_mort[COLUMN_HEAD.IS_SIGNIFICANT] == 'Significant Increase'), :]"
   ]
  },
  {
   "cell_type": "code",
   "execution_count": 11,
   "metadata": {},
   "outputs": [],
   "source": [
    "agg_params = {COLUMN_HEAD.EXCESS_MORTALITY_MEAN: 'sum',\n",
    "                COLUMN_HEAD.CONFIDENCE_INTERVAL: 'sum',\n",
    "                COLUMN_HEAD.WYLL_MEAN: 'sum',\n",
    "                COLUMN_HEAD.WYLL_FLUCTUATION: 'sum',\n",
    "                }\n",
    "\n",
    "exc_mort = exc_mort.groupby([COLUMN_HEAD.SEX, COLUMN_HEAD.LOCATION, COLUMN_HEAD.IS_SIGNIFICANT], as_index=False).agg(agg_params)"
   ]
  },
  {
   "cell_type": "code",
   "execution_count": 12,
   "metadata": {},
   "outputs": [],
   "source": [
    "exc_mort[COLUMN_HEAD.WYLL_AVG_MEAN] = exc_mort.apply(lambda x:\n",
    "                                        x[COLUMN_HEAD.WYLL_MEAN] / x[COLUMN_HEAD.EXCESS_MORTALITY_MEAN],\n",
    "                                        axis=1).round(2)\n",
    "\n",
    "exc_mort[COLUMN_HEAD.WYLL_AVG_FLUC] = exc_mort.apply(lambda x:\n",
    "                                        abs(\n",
    "                                            (x[COLUMN_HEAD.WYLL_MEAN] + x[COLUMN_HEAD.WYLL_FLUCTUATION])\n",
    "                                            /\n",
    "                                            (x[COLUMN_HEAD.EXCESS_MORTALITY_MEAN] + x[COLUMN_HEAD.CONFIDENCE_INTERVAL])\n",
    "                                            - x[COLUMN_HEAD.WYLL_AVG_MEAN]\n",
    "                                        ),\n",
    "                                        axis=1).round(2)\n"
   ]
  },
  {
   "cell_type": "code",
   "execution_count": 13,
   "metadata": {},
   "outputs": [],
   "source": [
    "exc_mort = exc_mort.merge(pop, on=[COLUMN_HEAD.SEX, COLUMN_HEAD.LOCATION])"
   ]
  },
  {
   "cell_type": "code",
   "execution_count": 14,
   "metadata": {},
   "outputs": [],
   "source": [
    "exc_mort[COLUMN_HEAD.WYLL_STD_MEAN] = exc_mort.apply(lambda x:\n",
    "                                        (x[COLUMN_HEAD.WYLL_MEAN] / x[COLUMN_HEAD.POPULATION])\n",
    "                                        *\n",
    "                                        10 ** 5,\n",
    "                                        axis=1).round(1)\n",
    "\n",
    "exc_mort[COLUMN_HEAD.WYLL_STD_FLUC] = exc_mort.apply(lambda x:\n",
    "                                        (x[COLUMN_HEAD.WYLL_FLUCTUATION] / x[COLUMN_HEAD.POPULATION])\n",
    "                                        *\n",
    "                                        10 ** 5,\n",
    "                                        axis=1).round(3)"
   ]
  },
  {
   "cell_type": "code",
   "execution_count": 15,
   "metadata": {},
   "outputs": [],
   "source": [
    "exc_mort[COLUMN_HEAD.WYLL_MEAN_DECORATED] = exc_mort[COLUMN_HEAD.WYLL_MEAN].round(1).map(str) + ' (±' + exc_mort[COLUMN_HEAD.WYLL_FLUCTUATION].round(1).map(str) + ')'\n",
    "exc_mort[COLUMN_HEAD.WYLL_AVG_MEAN_DECORATED] = exc_mort[COLUMN_HEAD.WYLL_AVG_MEAN].map(str) + ' (±' + exc_mort[COLUMN_HEAD.WYLL_AVG_FLUC].map(str) + ')'\n",
    "exc_mort[COLUMN_HEAD.WYLL_STD_MEAN_DECORATED] = exc_mort[COLUMN_HEAD.WYLL_STD_MEAN].map(str) + ' (±' + exc_mort[COLUMN_HEAD.WYLL_STD_FLUC].map(str) + ')'"
   ]
  },
  {
   "cell_type": "code",
   "execution_count": 16,
   "metadata": {},
   "outputs": [],
   "source": [
    "file_name = f'WYLL_for_year:{final_year}.csv'\n",
    "path = pathlib.Path(f'{os.getcwd()}/../../../output_data/Excess_mortality/{file_name}')\n",
    "exc_mort.to_csv(path, index=False)"
   ]
  }
 ],
 "metadata": {
  "interpreter": {
   "hash": "00fa93a88c3de211dd292ee4efa0f7066c412efac2e0636f8403ed7165f707cb"
  },
  "kernelspec": {
   "display_name": "Python 3.9.7 ('COV-BG-l4DIJW4P')",
   "language": "python",
   "name": "python3"
  },
  "language_info": {
   "codemirror_mode": {
    "name": "ipython",
    "version": 3
   },
   "file_extension": ".py",
   "mimetype": "text/x-python",
   "name": "python",
   "nbconvert_exporter": "python",
   "pygments_lexer": "ipython3",
   "version": "3.9.7"
  },
  "orig_nbformat": 4
 },
 "nbformat": 4,
 "nbformat_minor": 2
}
