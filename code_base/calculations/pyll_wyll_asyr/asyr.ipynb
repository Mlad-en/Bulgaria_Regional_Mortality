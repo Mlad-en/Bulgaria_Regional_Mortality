{
 "cells": [
  {
   "cell_type": "code",
   "execution_count": 37,
   "metadata": {},
   "outputs": [],
   "source": [
    "import os\n",
    "import pathlib\n",
    "import pandas as pd\n",
    "\n",
    "\n",
    "from helpers.column import COLUMN_HEAD"
   ]
  },
  {
   "cell_type": "code",
   "execution_count": 38,
   "metadata": {},
   "outputs": [],
   "source": [
    "def get_final_year():\n",
    "    allowed_years = ['2020', '2021', '2022']\n",
    "    msg = f'Please provide final year to analize: [allowed are: {allowed_years}] '\n",
    "\n",
    "    get_year = input(msg)\n",
    "    while get_year not in allowed_years:\n",
    "        get_year = input(msg)\n",
    "    \n",
    "    print(f'Will analyze data for {get_year}')\n",
    "    return get_year"
   ]
  },
  {
   "cell_type": "code",
   "execution_count": 39,
   "metadata": {},
   "outputs": [],
   "source": [
    "cleaned_avg_population_file = pathlib.Path(f'{os.getcwd()}/../../../cleaned_data/Population_all_ages_2017-2019(Bulgaria).csv')\n",
    "pop = pd.read_csv(cleaned_avg_population_file)\n",
    "pop = pop.loc[:, [COLUMN_HEAD.LOCATION, COLUMN_HEAD.SEX, COLUMN_HEAD.AGE,  '2019']]\n",
    "pop.rename(columns={'2019': COLUMN_HEAD.POPULATION}, inplace=True)"
   ]
  },
  {
   "cell_type": "code",
   "execution_count": 40,
   "metadata": {},
   "outputs": [],
   "source": [
    "life_tables_file = pathlib.Path(f'{os.getcwd()}/../../../output_data/life_table_calculations/Bulgaria_Abidged_life_table.csv')\n",
    "life_tables = pd.read_csv(life_tables_file)\n",
    "life_tables = life_tables.loc[:, [COLUMN_HEAD.LOCATION, COLUMN_HEAD.SEX, COLUMN_HEAD.AGE, 'e(x)']]\n",
    "life_tables.rename(columns={'e(x)': COLUMN_HEAD.LIFE_EXPECTANCY}, inplace=True)"
   ]
  },
  {
   "cell_type": "code",
   "execution_count": 41,
   "metadata": {},
   "outputs": [],
   "source": [
    "standardized_pop_file = pathlib.Path(f'{os.getcwd()}/../../../output_data/life_table_calculations/Bulgarian Standardized population.csv')\n",
    "standardized_pop = pd.read_csv(standardized_pop_file)"
   ]
  },
  {
   "cell_type": "code",
   "execution_count": 42,
   "metadata": {},
   "outputs": [
    {
     "name": "stdout",
     "output_type": "stream",
     "text": [
      "Will analyze data for 2022\n"
     ]
    }
   ],
   "source": [
    "final_year = get_final_year()\n",
    "mortality_file = pathlib.Path(f'{os.getcwd()}/../../../output_data/Excess_mortality/Predicted_excess_mortality_by_location_sex_age_year:{final_year}.csv')\n",
    "mortality = pd.read_csv(mortality_file)"
   ]
  },
  {
   "cell_type": "code",
   "execution_count": 43,
   "metadata": {},
   "outputs": [],
   "source": [
    "pop = pop.groupby([COLUMN_HEAD.AGE, COLUMN_HEAD.SEX, COLUMN_HEAD.LOCATION], as_index=False)[COLUMN_HEAD.POPULATION].sum()"
   ]
  },
  {
   "cell_type": "code",
   "execution_count": 44,
   "metadata": {},
   "outputs": [],
   "source": [
    "exc_mort = mortality.merge(life_tables, on=[COLUMN_HEAD.AGE, COLUMN_HEAD.SEX, COLUMN_HEAD.LOCATION])"
   ]
  },
  {
   "cell_type": "code",
   "execution_count": 45,
   "metadata": {},
   "outputs": [],
   "source": [
    "exc_mort[COLUMN_HEAD.PYLL_MEAN] = exc_mort.apply(lambda x:\n",
    "                                          x[COLUMN_HEAD.LIFE_EXPECTANCY] * x[COLUMN_HEAD.EXCESS_MORTALITY_MEAN]\n",
    "                                          if x[COLUMN_HEAD.EXCESS_MORTALITY_MEAN] > 0\n",
    "                                          else 0,\n",
    "                                          axis=1).round(1)\n",
    "\n",
    "exc_mort[COLUMN_HEAD.PYLL_FLUCTUATION] = exc_mort.apply(lambda x:\n",
    "                                                 x[COLUMN_HEAD.LIFE_EXPECTANCY] * x[COLUMN_HEAD.CONFIDENCE_INTERVAL]\n",
    "                                                 if x[COLUMN_HEAD.PYLL_MEAN] > 0\n",
    "                                                 else 0,\n",
    "                                                 axis=1).round(1)"
   ]
  },
  {
   "cell_type": "code",
   "execution_count": 46,
   "metadata": {},
   "outputs": [],
   "source": [
    "exc_mort = exc_mort.loc[(exc_mort[COLUMN_HEAD.IS_SIGNIFICANT] == 'Significant Increase'), :]"
   ]
  },
  {
   "cell_type": "code",
   "execution_count": 47,
   "metadata": {},
   "outputs": [],
   "source": [
    "exc_mort = exc_mort.merge(pop, on=[COLUMN_HEAD.AGE, COLUMN_HEAD.SEX, COLUMN_HEAD.LOCATION])"
   ]
  },
  {
   "cell_type": "code",
   "execution_count": 48,
   "metadata": {},
   "outputs": [],
   "source": [
    "exc_mort = exc_mort.merge(standardized_pop, on=[COLUMN_HEAD.AGE, COLUMN_HEAD.SEX])"
   ]
  },
  {
   "cell_type": "code",
   "execution_count": 49,
   "metadata": {},
   "outputs": [],
   "source": [
    "exc_mort[COLUMN_HEAD.PYLL_RATE] = exc_mort.apply(lambda x:\n",
    "                                    (x[COLUMN_HEAD.PYLL_MEAN] / x[COLUMN_HEAD.POPULATION])\n",
    "                                    *\n",
    "                                    10 ** 5,\n",
    "                                    axis=1).round(2)\n",
    "\n",
    "exc_mort[COLUMN_HEAD.PYLL_RATE_FLUC] = exc_mort.apply(lambda x:\n",
    "                                        (x[COLUMN_HEAD.PYLL_FLUCTUATION] / x[COLUMN_HEAD.POPULATION])\n",
    "                                        *\n",
    "                                        10 ** 5,\n",
    "                                        axis=1).round(2)"
   ]
  },
  {
   "cell_type": "code",
   "execution_count": 50,
   "metadata": {},
   "outputs": [],
   "source": [
    "exc_mort[COLUMN_HEAD.POPULATION_PER_100_000] = exc_mort.apply(lambda x:\n",
    "                                                (x[COLUMN_HEAD.STANDARD_POPULATION] / 100_000),\n",
    "                                                axis=1).round(3)"
   ]
  },
  {
   "cell_type": "code",
   "execution_count": 51,
   "metadata": {},
   "outputs": [],
   "source": [
    "exc_mort[COLUMN_HEAD.ASYR] = exc_mort.apply(lambda x:\n",
    "                                (x[COLUMN_HEAD.PYLL_RATE] * x[COLUMN_HEAD.POPULATION_PER_100_000]),\n",
    "                                axis=1).round(3)\n",
    "\n",
    "exc_mort[COLUMN_HEAD.ASYR_FLUC] = exc_mort.apply(lambda x:\n",
    "                                    (x[COLUMN_HEAD.PYLL_RATE_FLUC] * x[COLUMN_HEAD.POPULATION_PER_100_000]),\n",
    "                                    axis=1).round(3)"
   ]
  },
  {
   "cell_type": "code",
   "execution_count": 52,
   "metadata": {},
   "outputs": [],
   "source": [
    "agg_params = {COLUMN_HEAD.ASYR: 'sum',\n",
    "              COLUMN_HEAD.ASYR_FLUC: 'sum', }\n",
    "exc_mort = exc_mort.groupby([COLUMN_HEAD.LOCATION, COLUMN_HEAD.SEX], as_index=False).agg(agg_params)"
   ]
  },
  {
   "cell_type": "code",
   "execution_count": 53,
   "metadata": {},
   "outputs": [],
   "source": [
    "exc_mort.sort_values([COLUMN_HEAD.SEX, COLUMN_HEAD.ASYR], ascending=False, inplace=True)"
   ]
  },
  {
   "cell_type": "code",
   "execution_count": null,
   "metadata": {},
   "outputs": [],
   "source": [
    "asyr_file = pathlib.Path(f'{os.getcwd()}/../../../output_data/life_table_calculations/ASYR_for_year:{final_year}.csv')\n",
    "exc_mort.to_csv(asyr_file, index=False)"
   ]
  }
 ],
 "metadata": {
  "interpreter": {
   "hash": "00fa93a88c3de211dd292ee4efa0f7066c412efac2e0636f8403ed7165f707cb"
  },
  "kernelspec": {
   "display_name": "Python 3.9.7 ('COV-BG-l4DIJW4P')",
   "language": "python",
   "name": "python3"
  },
  "language_info": {
   "codemirror_mode": {
    "name": "ipython",
    "version": 3
   },
   "file_extension": ".py",
   "mimetype": "text/x-python",
   "name": "python",
   "nbconvert_exporter": "python",
   "pygments_lexer": "ipython3",
   "version": "3.9.7"
  },
  "orig_nbformat": 4
 },
 "nbformat": 4,
 "nbformat_minor": 2
}
