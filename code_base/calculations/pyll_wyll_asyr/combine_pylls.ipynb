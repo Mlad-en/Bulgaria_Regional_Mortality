{
 "cells": [
  {
   "cell_type": "code",
   "execution_count": 6,
   "metadata": {},
   "outputs": [],
   "source": [
    "import os\n",
    "import pathlib\n",
    "import pandas as pd\n",
    "\n",
    "from helpers.column import COLUMN_HEAD"
   ]
  },
  {
   "cell_type": "code",
   "execution_count": 7,
   "metadata": {},
   "outputs": [],
   "source": [
    "pyll_2020_file = pathlib.Path(f'{os.getcwd()}/../../../output_data/Excess_mortality/PYLL_for_year:2021.csv')\n",
    "pyll_2021_file = pathlib.Path(f'{os.getcwd()}/../../../output_data/Excess_mortality/PYLL_for_year:2021.csv')\n",
    "pyll_2022_file = pathlib.Path(f'{os.getcwd()}/../../../output_data/Excess_mortality/PYLL_for_year:2022.csv')\n",
    "\n",
    "pyll_2020 = pd.read_csv(pyll_2020_file)\n",
    "pyll_2021 = pd.read_csv(pyll_2021_file)\n",
    "pyll_2022 = pd.read_csv(pyll_2022_file)\n"
   ]
  },
  {
   "cell_type": "code",
   "execution_count": 8,
   "metadata": {},
   "outputs": [],
   "source": [
    "total_pyll = pd.concat([pyll_2020, pyll_2021, pyll_2022])"
   ]
  },
  {
   "cell_type": "code",
   "execution_count": 10,
   "metadata": {},
   "outputs": [
    {
     "data": {
      "text/plain": [
       "Index(['Sex', 'Location', 'SIGNIFICANT', 'Excess_mortality', 'Conf_interval',\n",
       "       'PYLL_mean', 'PYLL_fluctuation', 'PYLL_average_mean',\n",
       "       'AVG_PYLL_fluctuation', 'Population', 'PYLL_STD_MEAN', 'PYLL_STD_FLUC',\n",
       "       'PYLL_mean ±', 'PYLL_average_mean ±', 'PYLL_STD_MEAN ±'],\n",
       "      dtype='object')"
      ]
     },
     "execution_count": 10,
     "metadata": {},
     "output_type": "execute_result"
    }
   ],
   "source": [
    "total_pyll.columns"
   ]
  },
  {
   "cell_type": "code",
   "execution_count": 15,
   "metadata": {},
   "outputs": [],
   "source": [
    "total_pyll = total_pyll.loc[:, [COLUMN_HEAD.LOCATION, \n",
    "                                COLUMN_HEAD.SEX, \n",
    "                                COLUMN_HEAD.PYLL_MEAN, \n",
    "                                COLUMN_HEAD.PYLL_FLUCTUATION, \n",
    "                                COLUMN_HEAD.PYLL_STD_MEAN,\n",
    "                                COLUMN_HEAD.PYLL_STD_FLUC]]\n",
    "\n",
    "total_pyll = total_pyll.groupby([COLUMN_HEAD.LOCATION, COLUMN_HEAD.SEX]).sum([COLUMN_HEAD.PYLL_MEAN, \n",
    "                                                                              COLUMN_HEAD.PYLL_FLUCTUATION, \n",
    "                                                                              COLUMN_HEAD.PYLL_STD_MEAN,\n",
    "                                                                              COLUMN_HEAD.PYLL_STD_FLUC])"
   ]
  },
  {
   "cell_type": "code",
   "execution_count": 16,
   "metadata": {},
   "outputs": [],
   "source": [
    "total_pyll.sort_values([COLUMN_HEAD.SEX, COLUMN_HEAD.PYLL_STD_MEAN], ascending=False, inplace=True)"
   ]
  },
  {
   "cell_type": "code",
   "execution_count": 12,
   "metadata": {},
   "outputs": [],
   "source": [
    "total_pyll_file = pathlib.Path(f'{os.getcwd()}/../../../output_data/Excess_mortality/Total PYLLs for 2020-2022.csv')\n",
    "total_pyll.to_csv(total_pyll_file, index=True)"
   ]
  }
 ],
 "metadata": {
  "interpreter": {
   "hash": "00fa93a88c3de211dd292ee4efa0f7066c412efac2e0636f8403ed7165f707cb"
  },
  "kernelspec": {
   "display_name": "Python 3.9.7 ('COV-BG-l4DIJW4P')",
   "language": "python",
   "name": "python3"
  },
  "language_info": {
   "codemirror_mode": {
    "name": "ipython",
    "version": 3
   },
   "file_extension": ".py",
   "mimetype": "text/x-python",
   "name": "python",
   "nbconvert_exporter": "python",
   "pygments_lexer": "ipython3",
   "version": "3.9.7"
  },
  "orig_nbformat": 4
 },
 "nbformat": 4,
 "nbformat_minor": 2
}
