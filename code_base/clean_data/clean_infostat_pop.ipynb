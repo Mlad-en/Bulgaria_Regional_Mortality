{
 "cells": [
  {
   "cell_type": "code",
   "execution_count": 22,
   "metadata": {},
   "outputs": [],
   "source": [
    "import os\n",
    "import pathlib\n",
    "import pandas as pd\n",
    "\n",
    "from column_bindings.infostat_columns import InfostatColumns\n",
    "from translations.age_translations import INFOSTAT_DECODE_AGE_GROUPS\n",
    "from translations.nuts3_translate_infostat import TRANSLATE_REGIONS"
   ]
  },
  {
   "cell_type": "code",
   "execution_count": 2,
   "metadata": {},
   "outputs": [],
   "source": [
    "raw_population_file = pathlib.Path(f'{os.getcwd()}/../../raw_data/Population_all_ages_2017-2019.csv')\n",
    "df = pd.read_csv(raw_population_file)\n"
   ]
  },
  {
   "cell_type": "code",
   "execution_count": 3,
   "metadata": {},
   "outputs": [],
   "source": [
    "df.drop(index=df[df[InfostatColumns.age]=='Общо'].index, inplace=True)\n",
    "df = df.melt(id_vars=[InfostatColumns.year, InfostatColumns.location, InfostatColumns.age], \n",
    "             var_name=InfostatColumns.sex, \n",
    "             value_name=InfostatColumns.population)"
   ]
  },
  {
   "cell_type": "code",
   "execution_count": 4,
   "metadata": {},
   "outputs": [],
   "source": [
    "df [InfostatColumns.year] = df[InfostatColumns.year].map(str)\n",
    "df[InfostatColumns.population] = df.apply(lambda x: x[InfostatColumns.population].replace('-', '0'), axis=1)"
   ]
  },
  {
   "cell_type": "code",
   "execution_count": 5,
   "metadata": {},
   "outputs": [],
   "source": [
    "df = df.pivot_table(columns=[InfostatColumns.year], \n",
    "                    index=[InfostatColumns.location, InfostatColumns.age, InfostatColumns.sex], \n",
    "                    values=InfostatColumns.population)\n",
    "df.reset_index(inplace=True)"
   ]
  },
  {
   "cell_type": "code",
   "execution_count": 6,
   "metadata": {},
   "outputs": [],
   "source": [
    "df[InfostatColumns.age] = df.apply(lambda x: INFOSTAT_DECODE_AGE_GROUPS.get(x[InfostatColumns.age], x[InfostatColumns.age]), axis=1)\n",
    "df[InfostatColumns.location] = df.apply(lambda x: TRANSLATE_REGIONS.get(x[InfostatColumns.location], x[InfostatColumns.location]), axis=1)"
   ]
  },
  {
   "cell_type": "code",
   "execution_count": 7,
   "metadata": {},
   "outputs": [],
   "source": [
    "df = df.groupby([InfostatColumns.location, InfostatColumns.age, InfostatColumns.sex], as_index=False).sum()\n",
    "df[InfostatColumns.avg_population] = df.loc[:, ['2017', '2018', '2019']].mean(axis=1).round(2)\n"
   ]
  },
  {
   "cell_type": "code",
   "execution_count": null,
   "metadata": {},
   "outputs": [],
   "source": [
    "cleaned_avg_population_file = pathlib.Path(f'{os.getcwd()}/../../cleaned_data/Population_all_ages_2017-2019(Bulgaria).csv')\n",
    "df.to_csv(cleaned_avg_population_file, index=False)\n"
   ]
  }
 ],
 "metadata": {
  "interpreter": {
   "hash": "00fa93a88c3de211dd292ee4efa0f7066c412efac2e0636f8403ed7165f707cb"
  },
  "kernelspec": {
   "display_name": "Python 3.9.7 ('COV-BG-l4DIJW4P')",
   "language": "python",
   "name": "python3"
  },
  "language_info": {
   "codemirror_mode": {
    "name": "ipython",
    "version": 3
   },
   "file_extension": ".py",
   "mimetype": "text/x-python",
   "name": "python",
   "nbconvert_exporter": "python",
   "pygments_lexer": "ipython3",
   "version": "3.9.7"
  },
  "orig_nbformat": 4
 },
 "nbformat": 4,
 "nbformat_minor": 2
}
