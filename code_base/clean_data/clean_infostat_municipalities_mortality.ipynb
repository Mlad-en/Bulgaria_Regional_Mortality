{
 "cells": [
  {
   "cell_type": "code",
   "execution_count": 1,
   "metadata": {},
   "outputs": [],
   "source": [
    "import os\n",
    "import pathlib\n",
    "import pandas as pd\n",
    "\n",
    "from column_bindings.infostat_columns import InfostatColumns\n",
    "from translations.age_translations import INFOSTAT_DECODE_AGE_GROUPS\n",
    "from translations.nuts3_translate_infostat import TRANSLATE_REGIONS\n",
    "from translations.sex_translations import INFOSTAT_SEX_CONVERSION"
   ]
  },
  {
   "cell_type": "code",
   "execution_count": 2,
   "metadata": {},
   "outputs": [],
   "source": [
    "raw_mortality_infostat_file = pathlib.Path(f'{os.getcwd()}/../../raw_data/Municipalities - Mortality.csv')\n",
    "df = pd.read_csv(raw_mortality_infostat_file)"
   ]
  },
  {
   "cell_type": "code",
   "execution_count": 3,
   "metadata": {},
   "outputs": [],
   "source": [
    "cols = dict(df.iloc[0, 1:])\n",
    "\n",
    "replace_headers = {}\n",
    "\n",
    "for key, val in cols.items():\n",
    "    replace_headers[key] = f'{key[0:4]}_{INFOSTAT_SEX_CONVERSION[val]}'\n",
    "replace_headers['Unnamed: 0'] =  InfostatColumns.location"
   ]
  },
  {
   "cell_type": "code",
   "execution_count": 4,
   "metadata": {},
   "outputs": [],
   "source": [
    "df.rename(columns=replace_headers, inplace=True)\n",
    "df.drop([0, 1], axis=0, inplace=True)"
   ]
  },
  {
   "cell_type": "code",
   "execution_count": 5,
   "metadata": {},
   "outputs": [],
   "source": [
    "for index, row in df.iterrows():\n",
    "    location = df.loc[index, InfostatColumns.location]\n",
    "    is_region = TRANSLATE_REGIONS.get(location)\n",
    "\n",
    "    if is_region:\n",
    "        df.loc[index, InfostatColumns.region] = location\n",
    "    else:\n",
    "        df.loc[index, InfostatColumns.region] = df.loc[index - 1, InfostatColumns.region]"
   ]
  },
  {
   "cell_type": "code",
   "execution_count": 6,
   "metadata": {},
   "outputs": [],
   "source": [
    "reorder_cols = [df.columns[-1]]\n",
    "reorder_cols.extend(list(df.columns[0:-1]))\n",
    "df = df.reindex(columns=reorder_cols)"
   ]
  },
  {
   "cell_type": "code",
   "execution_count": 7,
   "metadata": {},
   "outputs": [],
   "source": [
    "regions_mask = df.duplicated(subset=[InfostatColumns.location], keep='last')\n",
    "sofia_region_mask = df[InfostatColumns.location].str.contains(\"Столична\")\n",
    "sofia_region_mask = df[InfostatColumns.location].str.contains(\"София\")\n",
    "drop_regions = df[regions_mask | sofia_region_mask].index\n",
    "df.drop(drop_regions, inplace=True)"
   ]
  },
  {
   "cell_type": "code",
   "execution_count": 8,
   "metadata": {},
   "outputs": [],
   "source": [
    "df = df.melt(id_vars=[InfostatColumns.region, InfostatColumns.location], \n",
    "            var_name=f'{InfostatColumns.year}_{InfostatColumns.sex}',\n",
    "            value_name=InfostatColumns.mortality)"
   ]
  },
  {
   "cell_type": "code",
   "execution_count": 9,
   "metadata": {},
   "outputs": [],
   "source": [
    "df[[InfostatColumns.year, InfostatColumns.sex]] = df[f'{InfostatColumns.year}_{InfostatColumns.sex}'].str.split('_', expand=True)\n",
    "df.drop(f'{InfostatColumns.year}_{InfostatColumns.sex}', axis=1, inplace=True)"
   ]
  },
  {
   "cell_type": "code",
   "execution_count": 10,
   "metadata": {},
   "outputs": [],
   "source": [
    "df = df.pivot_table(index=[InfostatColumns.region, InfostatColumns.location, InfostatColumns.sex], \n",
    "                    columns=InfostatColumns.year, \n",
    "                    values=InfostatColumns.mortality).reset_index()"
   ]
  },
  {
   "cell_type": "code",
   "execution_count": 11,
   "metadata": {},
   "outputs": [],
   "source": [
    "mortality_infostat_file = pathlib.Path(f'{os.getcwd()}/../../cleaned_data/Municipalities - Mortality.csv')\n",
    "df.to_csv(mortality_infostat_file, index=False)"
   ]
  }
 ],
 "metadata": {
  "interpreter": {
   "hash": "3532ede4867f16338ead37b2b12d4c3e854112f4305accb47cfd20ef880b4542"
  },
  "kernelspec": {
   "display_name": "Python 3.9.7 ('Bulgaria_Regional_Mortality-CzOuHsox')",
   "language": "python",
   "name": "python3"
  },
  "language_info": {
   "codemirror_mode": {
    "name": "ipython",
    "version": 3
   },
   "file_extension": ".py",
   "mimetype": "text/x-python",
   "name": "python",
   "nbconvert_exporter": "python",
   "pygments_lexer": "ipython3",
   "version": "3.9.7"
  },
  "orig_nbformat": 4
 },
 "nbformat": 4,
 "nbformat_minor": 2
}
