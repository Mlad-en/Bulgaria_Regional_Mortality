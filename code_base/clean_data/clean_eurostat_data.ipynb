{
 "cells": [
  {
   "cell_type": "markdown",
   "metadata": {},
   "source": []
  },
  {
   "cell_type": "code",
   "execution_count": 17,
   "metadata": {},
   "outputs": [],
   "source": [
    "import pathlib\n",
    "import os\n",
    "\n",
    "import pandas as pd\n",
    "\n",
    "from translations.age_translations import EUROSTAT_AGES_CONVERSION\n",
    "from translations.nuts3_translations import EU_DECODE_NUTS3_REGIONS\n",
    "from translations.sex_translations import EUROSTAT_SEX_CONVERSION\n",
    "from column_bindings.eurostat_columns import *"
   ]
  },
  {
   "cell_type": "code",
   "execution_count": 18,
   "metadata": {},
   "outputs": [],
   "source": [
    "raw_mortality_eurostat_file = pathlib.Path(f'{os.getcwd()}/../../raw_data/demo_r_mweek3.tsv')\n",
    "df = pd.read_csv(raw_mortality_eurostat_file, sep='\\t')\n"
   ]
  },
  {
   "cell_type": "code",
   "execution_count": 21,
   "metadata": {},
   "outputs": [],
   "source": [
    "# Drop mortality for years different than 2015-2022\n",
    "drop_cols = [col for col in df.columns[1:] if col[:4] not in [str(year) for year in range(2015, 2023)]]\n",
    "df.drop(drop_cols, axis=1, inplace=True)\n",
    "\n",
    "# Drop countries different than Bulgaria (BG)\n",
    "bg_index = df[df[OriginalFileBindings.all_demography].str.contains(\"BG\")].index\n",
    "df = df.loc[bg_index, :]"
   ]
  },
  {
   "cell_type": "code",
   "execution_count": 22,
   "metadata": {},
   "outputs": [],
   "source": [
    "# Convert year_week columns containing mortality to a single column with mortality contained in a single other\n",
    "df = df.melt(id_vars=OriginalFileBindings.all_demography, \n",
    "             var_name=f'{EuroStatColumns.year}_{EuroStatColumns.week}', \n",
    "             value_name=EuroStatColumns.mortality)"
   ]
  },
  {
   "cell_type": "code",
   "execution_count": 23,
   "metadata": {},
   "outputs": [],
   "source": [
    "# Convert files header from comma separated demograpic data in a single column to separate columns with each respective demographic data point\n",
    "expand_columns = [OriginalFileBindings.units, \n",
    "                  EuroStatColumns.sex,\n",
    "                  EuroStatColumns.age, \n",
    "                  EuroStatColumns.location]\n",
    "\n",
    "df[expand_columns] = df[OriginalFileBindings.all_demography].str.split(',', expand=True)\n",
    "df.drop([OriginalFileBindings.all_demography, OriginalFileBindings.units], axis=1, inplace=True)"
   ]
  },
  {
   "cell_type": "code",
   "execution_count": 24,
   "metadata": {},
   "outputs": [],
   "source": [
    "# Split year_week column to distinct columns. Drop original column. Strip unnecessary white spaces for week.\n",
    "df[[EuroStatColumns.year, EuroStatColumns.week]] = df[f'{EuroStatColumns.year}_{EuroStatColumns.week}'].str.split('W', expand=True)\n",
    "df.drop([f'{EuroStatColumns.year}_{EuroStatColumns.week}'], axis=1, inplace=True)\n",
    "df[EuroStatColumns.week] = df[EuroStatColumns.week].str.strip()"
   ]
  },
  {
   "cell_type": "code",
   "execution_count": 25,
   "metadata": {},
   "outputs": [],
   "source": [
    "# Remove missing, expected and preliminary markings from mortality data\n",
    "df[EuroStatColumns.mortality] = df[EuroStatColumns.mortality].str.replace(':' , '0')\n",
    "df[EuroStatColumns.mortality] = df[EuroStatColumns.mortality].str.replace(' p' , '')\n",
    "df[EuroStatColumns.mortality] = df[EuroStatColumns.mortality].str.replace(' e' , '')\n",
    "df[EuroStatColumns.mortality]  = df[EuroStatColumns.mortality].map(int)"
   ]
  },
  {
   "cell_type": "code",
   "execution_count": 26,
   "metadata": {},
   "outputs": [],
   "source": [
    "# Standardize age and sex between files\n",
    "df[EuroStatColumns.age] = df[EuroStatColumns.age].apply(lambda x: EUROSTAT_AGES_CONVERSION.get(x))\n",
    "df[EuroStatColumns.sex] = df[EuroStatColumns.sex].apply(lambda x: EUROSTAT_SEX_CONVERSION.get(x))"
   ]
  },
  {
   "cell_type": "code",
   "execution_count": 27,
   "metadata": {},
   "outputs": [],
   "source": [
    "# Convert Table so each year is a separate column.\n",
    "df = df.pivot_table(columns=[EuroStatColumns.year], \n",
    "                    index=[EuroStatColumns.sex, \n",
    "                           EuroStatColumns.age,\n",
    "                           EuroStatColumns.location,\n",
    "                           EuroStatColumns.week], \n",
    "                    values='Mortality').reset_index()"
   ]
  },
  {
   "cell_type": "code",
   "execution_count": 28,
   "metadata": {},
   "outputs": [],
   "source": [
    "# filter out unknown regions (e.g. BGX, BGXX) or non-NUTS3 regions like (e.g. BG)\n",
    "nuts_3_regions = [item for item in df.Location.unique() if len(item)==5 and 'BGX' not in item]\n",
    "nuts_3_mask = df[df[EuroStatColumns.location].isin(nuts_3_regions)].index\n",
    "df = df.loc[nuts_3_mask, :]\n",
    "df[EuroStatColumns.location] = df[EuroStatColumns.location].apply(lambda x: EU_DECODE_NUTS3_REGIONS.get(x))"
   ]
  },
  {
   "cell_type": "code",
   "execution_count": 29,
   "metadata": {},
   "outputs": [],
   "source": [
    "# filter out unknown weeks (e.g. week 99)\n",
    "week_mask = [str(week).zfill(2) for week in range(1, 54)]\n",
    "df = df[df[EuroStatColumns.week].isin(week_mask)]"
   ]
  },
  {
   "cell_type": "code",
   "execution_count": 34,
   "metadata": {},
   "outputs": [],
   "source": [
    "save_location = raw_mortality_eurostat_file = pathlib.Path(f'{os.getcwd()}/../../cleaned_data/Eurostat_mortality_2015_2022(Bulgaria).csv')\n",
    "df.to_csv(save_location, index=False)"
   ]
  }
 ],
 "metadata": {
  "interpreter": {
   "hash": "3532ede4867f16338ead37b2b12d4c3e854112f4305accb47cfd20ef880b4542"
  },
  "kernelspec": {
   "display_name": "Python 3.9.7 ('Bulgaria_Regional_Mortality-CzOuHsox')",
   "language": "python",
   "name": "python3"
  },
  "language_info": {
   "codemirror_mode": {
    "name": "ipython",
    "version": 3
   },
   "file_extension": ".py",
   "mimetype": "text/x-python",
   "name": "python",
   "nbconvert_exporter": "python",
   "pygments_lexer": "ipython3",
   "version": "3.9.7"
  },
  "orig_nbformat": 4
 },
 "nbformat": 4,
 "nbformat_minor": 2
}
